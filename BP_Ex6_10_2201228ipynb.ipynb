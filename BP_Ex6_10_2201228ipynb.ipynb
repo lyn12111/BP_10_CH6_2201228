{
  "nbformat": 4,
  "nbformat_minor": 0,
  "metadata": {
    "colab": {
      "provenance": [],
      "authorship_tag": "ABX9TyPGAU3sl+XHFaplNmNGc91a",
      "include_colab_link": true
    },
    "kernelspec": {
      "name": "python3",
      "display_name": "Python 3"
    },
    "language_info": {
      "name": "python"
    }
  },
  "cells": [
    {
      "cell_type": "markdown",
      "metadata": {
        "id": "view-in-github",
        "colab_type": "text"
      },
      "source": [
        "<a href=\"https://colab.research.google.com/github/lyn12111/BP_10_CH6_2201228/blob/main/BP_Ex6_10_2201228ipynb.ipynb\" target=\"_parent\"><img src=\"https://colab.research.google.com/assets/colab-badge.svg\" alt=\"Open In Colab\"/></a>"
      ]
    },
    {
      "cell_type": "code",
      "execution_count": 3,
      "metadata": {
        "colab": {
          "base_uri": "https://localhost:8080/"
        },
        "id": "6jxveSWl7YtT",
        "outputId": "efe32016-a3ed-4a1f-d377-08feb298e310"
      },
      "outputs": [
        {
          "output_type": "stream",
          "name": "stdout",
          "text": [
            "2 4 6 8 10 12 14 16 18 20 22 24 26 28 30 32 34 36 38 40 42 44 46 48 50 52 54 56 58 60 62 64 66 68 70 72 74 76 78 80 82 84 86 88 90 92 94 96 98 100 "
          ]
        }
      ],
      "source": [
        "for i in range(2,101): #range는 구간을 정해준다\n",
        "  if i%2==0 :          #n%2==0은 2로 나눈 후에 나머지가 0인 수, 즉 짝수를 나타내준다\n",
        "     print(i,end= \" \" )\n"
      ]
    },
    {
      "cell_type": "code",
      "source": [
        "year=0\n",
        "balance=1000\n",
        "\n",
        "while balance <=2000: #while함수는 조건과 답이 일치할때까지 반복하는 함수이다.\n",
        "  year=year+1\n",
        "  interest=balance*0.07\n",
        "  balance=balance+interest\n",
        "print(year,\"년이 걸립니다.\")\n"
      ],
      "metadata": {
        "id": "Xro8ndW77_Yt",
        "colab": {
          "base_uri": "https://localhost:8080/"
        },
        "outputId": "f8b9950c-be16-47f9-c0e2-4679b9b34d43"
      },
      "execution_count": 4,
      "outputs": [
        {
          "output_type": "stream",
          "name": "stdout",
          "text": [
            "11 년이 걸립니다.\n"
          ]
        }
      ]
    },
    {
      "cell_type": "code",
      "source": [
        "n=1234\n",
        "sum=0\n",
        "while n>0:\n",
        "  digit=n%10\n",
        "  sum=sum+digit\n",
        "  n=n//10\n",
        "  print(sum)"
      ],
      "metadata": {
        "colab": {
          "base_uri": "https://localhost:8080/"
        },
        "id": "vTL70rID6bq8",
        "outputId": "245c963a-53c0-4f16-ab61-04f748bd602c"
      },
      "execution_count": 6,
      "outputs": [
        {
          "output_type": "stream",
          "name": "stdout",
          "text": [
            "4\n",
            "7\n",
            "9\n",
            "10\n"
          ]
        }
      ]
    },
    {
      "cell_type": "code",
      "source": [
        "ans=0\n",
        "while ans !=3*9:\n",
        "  ans=int(input(\"3*9는\"))\n",
        "print(\"맞았습니다.\")"
      ],
      "metadata": {
        "colab": {
          "base_uri": "https://localhost:8080/"
        },
        "id": "H9BwlrLV7HEX",
        "outputId": "3e299d54-59b7-4d17-a2ec-defe678fd713"
      },
      "execution_count": 7,
      "outputs": [
        {
          "output_type": "stream",
          "name": "stdout",
          "text": [
            "3*9는27\n",
            "맞았습니다.\n"
          ]
        }
      ]
    },
    {
      "cell_type": "code",
      "source": [
        "sum=0\n",
        "while True:                       #0을 입력할 때까지 계속 반복하게 만드는 조건 함수이다.\n",
        "  x=int(input(\"정수를 입력하시오: \"))\n",
        "  if x==0:\n",
        "    break;\n",
        "    sum=sum+x\n",
        "\n",
        "print(\"합은\",sum,\"입니다.\")"
      ],
      "metadata": {
        "colab": {
          "base_uri": "https://localhost:8080/"
        },
        "id": "vXGhDle77-Dv",
        "outputId": "02bbd27c-f5d2-472d-8014-a30f1cbdec64"
      },
      "execution_count": 11,
      "outputs": [
        {
          "output_type": "stream",
          "name": "stdout",
          "text": [
            "정수를 입력하시오: 10\n",
            "정수를 입력하시오: 2\n",
            "정수를 입력하시오: 5\n",
            "정수를 입력하시오: 1\n",
            "정수를 입력하시오: 3\n",
            "정수를 입력하시오: 4\n",
            "정수를 입력하시오: 0\n",
            "합은 0 입니다.\n"
          ]
        }
      ]
    },
    {
      "cell_type": "code",
      "source": [
        "from random import randint\n",
        "for i in range(3):\n",
        "  d1=randint(1,6)\n",
        "  d2=randint(1,6)\n",
        "  print(\"첫번째 주사위=\",d1,\"두번째 주사위\",d2)"
      ],
      "metadata": {
        "colab": {
          "base_uri": "https://localhost:8080/"
        },
        "id": "kVBUzGbZ8rtn",
        "outputId": "ddc36bfb-f377-41e6-8bf1-01c5fe90aa63"
      },
      "execution_count": 12,
      "outputs": [
        {
          "output_type": "stream",
          "name": "stdout",
          "text": [
            "첫번째 주사위= 4 두번째 주사위 2\n",
            "첫번째 주사위= 3 두번째 주사위 2\n",
            "첫번째 주사위= 3 두번째 주사위 3\n"
          ]
        }
      ]
    }
  ]
}